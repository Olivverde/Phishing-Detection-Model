{
 "cells": [
  {
   "cell_type": "markdown",
   "id": "5a75807c",
   "metadata": {},
   "source": [
    "# Laboratorio 1: Detección de Phishing"
   ]
  },
  {
   "cell_type": "code",
   "execution_count": 92,
   "id": "78b88ac4",
   "metadata": {},
   "outputs": [],
   "source": [
    "#Importar las librerías\n",
    "import urllib.parse\n",
    "import pandas_profiling\n",
    "import pandas as pd\n",
    "import re\n",
    "from sklearn import feature_extraction, tree, model_selection, metrics\n",
    "from sklearn.linear_model import LinearRegression\n",
    "from sklearn.metrics import confusion_matrix, classification_report, mean_squared_error, r2_score"
   ]
  },
  {
   "cell_type": "markdown",
   "id": "46cae262",
   "metadata": {},
   "source": [
    "## Parte 1: Ingeniería de características"
   ]
  },
  {
   "cell_type": "code",
   "execution_count": 93,
   "id": "65d662f2",
   "metadata": {},
   "outputs": [
    {
     "name": "stdout",
     "output_type": "stream",
     "text": [
      "(11430, 67)\n"
     ]
    },
    {
     "data": {
      "text/html": [
       "<div>\n",
       "<style scoped>\n",
       "    .dataframe tbody tr th:only-of-type {\n",
       "        vertical-align: middle;\n",
       "    }\n",
       "\n",
       "    .dataframe tbody tr th {\n",
       "        vertical-align: top;\n",
       "    }\n",
       "\n",
       "    .dataframe thead th {\n",
       "        text-align: right;\n",
       "    }\n",
       "</style>\n",
       "<table border=\"1\" class=\"dataframe\">\n",
       "  <thead>\n",
       "    <tr style=\"text-align: right;\">\n",
       "      <th></th>\n",
       "      <th>url</th>\n",
       "      <th>ip</th>\n",
       "      <th>nb_www</th>\n",
       "      <th>nb_com</th>\n",
       "      <th>nb_dslash</th>\n",
       "      <th>http_in_path</th>\n",
       "      <th>punycode</th>\n",
       "      <th>port</th>\n",
       "      <th>tld_in_path</th>\n",
       "      <th>tld_in_subdomain</th>\n",
       "      <th>...</th>\n",
       "      <th>domain_in_title</th>\n",
       "      <th>domain_with_copyright</th>\n",
       "      <th>whois_registered_domain</th>\n",
       "      <th>domain_registration_length</th>\n",
       "      <th>domain_age</th>\n",
       "      <th>web_traffic</th>\n",
       "      <th>dns_record</th>\n",
       "      <th>google_index</th>\n",
       "      <th>page_rank</th>\n",
       "      <th>status</th>\n",
       "    </tr>\n",
       "  </thead>\n",
       "  <tbody>\n",
       "    <tr>\n",
       "      <th>11319</th>\n",
       "      <td>http://67.199.68.195/nosmoke.htm</td>\n",
       "      <td>1</td>\n",
       "      <td>0</td>\n",
       "      <td>0</td>\n",
       "      <td>0</td>\n",
       "      <td>0</td>\n",
       "      <td>0</td>\n",
       "      <td>0</td>\n",
       "      <td>1</td>\n",
       "      <td>1</td>\n",
       "      <td>...</td>\n",
       "      <td>1</td>\n",
       "      <td>0</td>\n",
       "      <td>1</td>\n",
       "      <td>0</td>\n",
       "      <td>-1</td>\n",
       "      <td>0</td>\n",
       "      <td>1</td>\n",
       "      <td>0</td>\n",
       "      <td>0</td>\n",
       "      <td>phishing</td>\n",
       "    </tr>\n",
       "    <tr>\n",
       "      <th>10678</th>\n",
       "      <td>http://www.fofweb.com/Electronic_Images/Onfile...</td>\n",
       "      <td>0</td>\n",
       "      <td>1</td>\n",
       "      <td>0</td>\n",
       "      <td>0</td>\n",
       "      <td>0</td>\n",
       "      <td>0</td>\n",
       "      <td>0</td>\n",
       "      <td>0</td>\n",
       "      <td>0</td>\n",
       "      <td>...</td>\n",
       "      <td>1</td>\n",
       "      <td>1</td>\n",
       "      <td>0</td>\n",
       "      <td>26</td>\n",
       "      <td>7644</td>\n",
       "      <td>3871327</td>\n",
       "      <td>0</td>\n",
       "      <td>1</td>\n",
       "      <td>5</td>\n",
       "      <td>legitimate</td>\n",
       "    </tr>\n",
       "    <tr>\n",
       "      <th>1706</th>\n",
       "      <td>https://support-appleld.com.secureupdate.duila...</td>\n",
       "      <td>1</td>\n",
       "      <td>0</td>\n",
       "      <td>1</td>\n",
       "      <td>0</td>\n",
       "      <td>0</td>\n",
       "      <td>0</td>\n",
       "      <td>0</td>\n",
       "      <td>0</td>\n",
       "      <td>1</td>\n",
       "      <td>...</td>\n",
       "      <td>1</td>\n",
       "      <td>1</td>\n",
       "      <td>0</td>\n",
       "      <td>25</td>\n",
       "      <td>3993</td>\n",
       "      <td>5707171</td>\n",
       "      <td>0</td>\n",
       "      <td>1</td>\n",
       "      <td>0</td>\n",
       "      <td>phishing</td>\n",
       "    </tr>\n",
       "    <tr>\n",
       "      <th>3399</th>\n",
       "      <td>http://searchbusinessanalytics.techtarget.com/...</td>\n",
       "      <td>0</td>\n",
       "      <td>0</td>\n",
       "      <td>0</td>\n",
       "      <td>0</td>\n",
       "      <td>0</td>\n",
       "      <td>0</td>\n",
       "      <td>0</td>\n",
       "      <td>0</td>\n",
       "      <td>0</td>\n",
       "      <td>...</td>\n",
       "      <td>1</td>\n",
       "      <td>0</td>\n",
       "      <td>0</td>\n",
       "      <td>134</td>\n",
       "      <td>7615</td>\n",
       "      <td>2188</td>\n",
       "      <td>0</td>\n",
       "      <td>0</td>\n",
       "      <td>5</td>\n",
       "      <td>legitimate</td>\n",
       "    </tr>\n",
       "    <tr>\n",
       "      <th>8565</th>\n",
       "      <td>http://cjincjobs.blogspot.com</td>\n",
       "      <td>0</td>\n",
       "      <td>0</td>\n",
       "      <td>0</td>\n",
       "      <td>0</td>\n",
       "      <td>0</td>\n",
       "      <td>0</td>\n",
       "      <td>0</td>\n",
       "      <td>0</td>\n",
       "      <td>0</td>\n",
       "      <td>...</td>\n",
       "      <td>1</td>\n",
       "      <td>1</td>\n",
       "      <td>0</td>\n",
       "      <td>371</td>\n",
       "      <td>7298</td>\n",
       "      <td>334843</td>\n",
       "      <td>0</td>\n",
       "      <td>0</td>\n",
       "      <td>5</td>\n",
       "      <td>legitimate</td>\n",
       "    </tr>\n",
       "  </tbody>\n",
       "</table>\n",
       "<p>5 rows × 67 columns</p>\n",
       "</div>"
      ],
      "text/plain": [
       "                                                     url  ip  nb_www  nb_com  \\\n",
       "11319                   http://67.199.68.195/nosmoke.htm   1       0       0   \n",
       "10678  http://www.fofweb.com/Electronic_Images/Onfile...   0       1       0   \n",
       "1706   https://support-appleld.com.secureupdate.duila...   1       0       1   \n",
       "3399   http://searchbusinessanalytics.techtarget.com/...   0       0       0   \n",
       "8565                       http://cjincjobs.blogspot.com   0       0       0   \n",
       "\n",
       "       nb_dslash  http_in_path  punycode  port  tld_in_path  tld_in_subdomain  \\\n",
       "11319          0             0         0     0            1                 1   \n",
       "10678          0             0         0     0            0                 0   \n",
       "1706           0             0         0     0            0                 1   \n",
       "3399           0             0         0     0            0                 0   \n",
       "8565           0             0         0     0            0                 0   \n",
       "\n",
       "       ...  domain_in_title  domain_with_copyright  whois_registered_domain  \\\n",
       "11319  ...                1                      0                        1   \n",
       "10678  ...                1                      1                        0   \n",
       "1706   ...                1                      1                        0   \n",
       "3399   ...                1                      0                        0   \n",
       "8565   ...                1                      1                        0   \n",
       "\n",
       "       domain_registration_length  domain_age  web_traffic  dns_record  \\\n",
       "11319                           0          -1            0           1   \n",
       "10678                          26        7644      3871327           0   \n",
       "1706                           25        3993      5707171           0   \n",
       "3399                          134        7615         2188           0   \n",
       "8565                          371        7298       334843           0   \n",
       "\n",
       "       google_index  page_rank      status  \n",
       "11319             0          0    phishing  \n",
       "10678             1          5  legitimate  \n",
       "1706              1          0    phishing  \n",
       "3399              0          5  legitimate  \n",
       "8565              0          5  legitimate  \n",
       "\n",
       "[5 rows x 67 columns]"
      ]
     },
     "execution_count": 93,
     "metadata": {},
     "output_type": "execute_result"
    }
   ],
   "source": [
    "## Cargar el dataset proporcionado\n",
    "df = pd.read_csv('dataset_pishing.csv')\n",
    "## df.drop(['host', 'subclass'], axis=1, inplace=True)\n",
    "print(df.shape)\n",
    "df.sample(n=5).head() # print a random sample of the DataFrame"
   ]
  },
  {
   "cell_type": "code",
   "execution_count": 94,
   "id": "56571a89",
   "metadata": {},
   "outputs": [
    {
     "name": "stdout",
     "output_type": "stream",
     "text": [
      "Phishing -> 5715 \n",
      "Legitimate -> 5715\n",
      "Proporción de balance para registros legítimos/phishing -> 1.0 \n",
      "Dataset Balanceado\n"
     ]
    }
   ],
   "source": [
    "legit = df.loc[df['status'] == 'legitimate'].shape[0]\n",
    "phi = df.loc[df['status'] == 'phishing'].shape[0]\n",
    "print('Phishing ->', phi, '\\nLegitimate ->', legit)\n",
    "print('Proporción de balance para registros legítimos/phishing ->', legit/phi, '\\nDataset Balanceado')"
   ]
  },
  {
   "cell_type": "markdown",
   "id": "46146657",
   "metadata": {},
   "source": [
    "Características basadas en el dominio: <br>\n",
    "\n",
    "| F1 | URL length |<br>\n",
    "| F2 | Hostname Length |<br>\n",
    "| F4 to F20 | Special Characters -> ['.', '-', '@', '?', '&', '|', '=', '_', '~', '%', '/', '*', ':', ',', ';', '$', '%20', ' '] |<br>\n",
    "| F25 | HTTPS token | <br>\n",
    "| F26 | URL Digits Ratio | <br>\n",
    "| F27 | URL Digits Ratio Hostname | <br>"
   ]
  },
  {
   "cell_type": "code",
   "execution_count": 95,
   "id": "3ac4eaac",
   "metadata": {},
   "outputs": [
    {
     "data": {
      "text/plain": [
       "\"url = 'http://www.inbioma.pe/rechnung-376440790464490488&amp;cgi3-viewkontakt-376440790464490488-007acctpagetype-376440790464490488=4674720-&amp;info@s-und-s-shop.de.html'\\nprint(url_length(url), url_hostname_length(url), count_special_char(url),\\n      https_check(url), url_digit_ratio(url), hostname_digit_ratio(url))\""
      ]
     },
     "execution_count": 95,
     "metadata": {},
     "output_type": "execute_result"
    }
   ],
   "source": [
    "# Parsea la url\n",
    "def parse_url(url):\n",
    "    return urllib.parse.urlparse(url)\n",
    "\n",
    "# Calcula la longitud del URL\n",
    "def url_length(url):\n",
    "    \n",
    "    return len(url)\n",
    "\n",
    "# Calcula la longitud del hostname contenido en la URL\n",
    "def url_hostname_length(url):\n",
    "    parsed_url = parse_url(url)\n",
    "    hostname = parsed_url.hostname\n",
    "    \n",
    "    return len(hostname)\n",
    "\n",
    "# Calcula la cantidad de caracteres especiales contenidos en la url\n",
    "def count_special_char(url):\n",
    "    sp_chars = ['.','-','@','?','&','|','=','_','~','%','/','*',':',',',';','$','%20',' ']\n",
    "    \n",
    "    return sum(char in sp_chars for char in url)\n",
    "\n",
    "# Verifica si contiene un protocolo HTTPS\n",
    "def https_check(url):\n",
    "    parsed_url = parse_url(url)\n",
    "    protocol = parsed_url.scheme\n",
    "    \n",
    "    return 1 if protocol == \"https\" else 0\n",
    "\n",
    "# Calcula el ratio de digitos dentro de la url\n",
    "def url_digit_ratio(url):\n",
    "    \n",
    "    return sum(char.isdigit() for char in url) / len(url)\n",
    "\n",
    "# Calcula el ratio de digitos del hostname contenido en la url\n",
    "def hostname_digit_ratio(url):\n",
    "    parsed_url = parse_url(url)\n",
    "    hostname = parsed_url.hostname\n",
    "    \n",
    "    return sum(char.isdigit() for char in hostname) / len(hostname)\n",
    "\n",
    "#--------------------------------------------------------------------------------------------------------      \n",
    "\n",
    "# Pruebas\n",
    "\"\"\"url = 'http://www.inbioma.pe/rechnung-376440790464490488&amp;cgi3-viewkontakt-376440790464490488-007acctpagetype-376440790464490488=4674720-&amp;info@s-und-s-shop.de.html'\n",
    "print(url_length(url), url_hostname_length(url), count_special_char(url),\n",
    "      https_check(url), url_digit_ratio(url), hostname_digit_ratio(url))\"\"\""
   ]
  },
  {
   "cell_type": "code",
   "execution_count": 96,
   "id": "6c31f432",
   "metadata": {},
   "outputs": [
    {
     "data": {
      "text/html": [
       "<div>\n",
       "<style scoped>\n",
       "    .dataframe tbody tr th:only-of-type {\n",
       "        vertical-align: middle;\n",
       "    }\n",
       "\n",
       "    .dataframe tbody tr th {\n",
       "        vertical-align: top;\n",
       "    }\n",
       "\n",
       "    .dataframe thead th {\n",
       "        text-align: right;\n",
       "    }\n",
       "</style>\n",
       "<table border=\"1\" class=\"dataframe\">\n",
       "  <thead>\n",
       "    <tr style=\"text-align: right;\">\n",
       "      <th></th>\n",
       "      <th>url_length</th>\n",
       "      <th>hostname_length</th>\n",
       "      <th>special_chars</th>\n",
       "      <th>https</th>\n",
       "      <th>url_digit_ratio</th>\n",
       "      <th>hostname_digit_ratio</th>\n",
       "      <th>status</th>\n",
       "    </tr>\n",
       "  </thead>\n",
       "  <tbody>\n",
       "    <tr>\n",
       "      <th>4249</th>\n",
       "      <td>32</td>\n",
       "      <td>17</td>\n",
       "      <td>8</td>\n",
       "      <td>0</td>\n",
       "      <td>0.000000</td>\n",
       "      <td>0.000000</td>\n",
       "      <td>legitimate</td>\n",
       "    </tr>\n",
       "    <tr>\n",
       "      <th>5798</th>\n",
       "      <td>31</td>\n",
       "      <td>22</td>\n",
       "      <td>6</td>\n",
       "      <td>1</td>\n",
       "      <td>0.000000</td>\n",
       "      <td>0.000000</td>\n",
       "      <td>legitimate</td>\n",
       "    </tr>\n",
       "    <tr>\n",
       "      <th>5007</th>\n",
       "      <td>34</td>\n",
       "      <td>25</td>\n",
       "      <td>6</td>\n",
       "      <td>1</td>\n",
       "      <td>0.029412</td>\n",
       "      <td>0.040000</td>\n",
       "      <td>phishing</td>\n",
       "    </tr>\n",
       "    <tr>\n",
       "      <th>11139</th>\n",
       "      <td>37</td>\n",
       "      <td>28</td>\n",
       "      <td>6</td>\n",
       "      <td>1</td>\n",
       "      <td>0.054054</td>\n",
       "      <td>0.071429</td>\n",
       "      <td>phishing</td>\n",
       "    </tr>\n",
       "    <tr>\n",
       "      <th>5628</th>\n",
       "      <td>43</td>\n",
       "      <td>35</td>\n",
       "      <td>9</td>\n",
       "      <td>0</td>\n",
       "      <td>0.000000</td>\n",
       "      <td>0.000000</td>\n",
       "      <td>phishing</td>\n",
       "    </tr>\n",
       "  </tbody>\n",
       "</table>\n",
       "</div>"
      ],
      "text/plain": [
       "       url_length  hostname_length  special_chars  https  url_digit_ratio  \\\n",
       "4249           32               17              8      0         0.000000   \n",
       "5798           31               22              6      1         0.000000   \n",
       "5007           34               25              6      1         0.029412   \n",
       "11139          37               28              6      1         0.054054   \n",
       "5628           43               35              9      0         0.000000   \n",
       "\n",
       "       hostname_digit_ratio      status  \n",
       "4249               0.000000  legitimate  \n",
       "5798               0.000000  legitimate  \n",
       "5007               0.040000    phishing  \n",
       "11139              0.071429    phishing  \n",
       "5628               0.000000    phishing  "
      ]
     },
     "execution_count": 96,
     "metadata": {},
     "output_type": "execute_result"
    }
   ],
   "source": [
    "# Aplicación de las funciones construídas\n",
    "url = df['url']\n",
    "\n",
    "df['url_length'] = url.apply(url_length)\n",
    "df['hostname_length'] = url.apply(url_hostname_length)\n",
    "df['special_chars'] = url.apply(count_special_char)\n",
    "df['https'] = url.apply(https_check)\n",
    "df['url_digit_ratio'] = url.apply(url_digit_ratio)\n",
    "df['hostname_digit_ratio'] = url.apply(hostname_digit_ratio)\n",
    "\n",
    "df_sampler = df[['url_length','hostname_length','special_chars',\n",
    "                'https','url_digit_ratio','hostname_digit_ratio','status']]\n",
    "\n",
    "df_sampler.sample(n=5).head()"
   ]
  },
  {
   "cell_type": "markdown",
   "id": "a5f6abbd",
   "metadata": {},
   "source": [
    "## Parte 2: Preprocesamiento"
   ]
  },
  {
   "cell_type": "code",
   "execution_count": 97,
   "id": "46750f97",
   "metadata": {},
   "outputs": [
    {
     "name": "stdout",
     "output_type": "stream",
     "text": [
      "0        0\n",
      "1        1\n",
      "2        1\n",
      "3        0\n",
      "4        0\n",
      "        ..\n",
      "11425    0\n",
      "11426    1\n",
      "11427    0\n",
      "11428    0\n",
      "11429    1\n",
      "Name: status, Length: 11430, dtype: int64\n"
     ]
    },
    {
     "name": "stderr",
     "output_type": "stream",
     "text": [
      "C:\\Users\\olive\\AppData\\Local\\Temp\\ipykernel_32384\\192044610.py:2: SettingWithCopyWarning: \n",
      "A value is trying to be set on a copy of a slice from a DataFrame.\n",
      "Try using .loc[row_indexer,col_indexer] = value instead\n",
      "\n",
      "See the caveats in the documentation: https://pandas.pydata.org/pandas-docs/stable/user_guide/indexing.html#returning-a-view-versus-a-copy\n",
      "  df_sampler['status'] = df_sampler['status'].map({'phishing': 1, 'legitimate': 0})\n"
     ]
    }
   ],
   "source": [
    "# Cambio a variable categorica\n",
    "df_sampler['status'] = df_sampler['status'].map({'phishing': 1, 'legitimate': 0})\n",
    "print(df_sampler['status'])\n",
    "\n",
    "feature_names = df_sampler"
   ]
  },
  {
   "cell_type": "markdown",
   "id": "2c92e349",
   "metadata": {},
   "source": [
    "## Visualización de la data"
   ]
  },
  {
   "cell_type": "code",
   "execution_count": 12,
   "id": "8f829eda",
   "metadata": {},
   "outputs": [
    {
     "data": {
      "text/plain": [
       "'profile = pandas_profiling.ProfileReport(df)\\nprofile.to_file(\"output.html\")'"
      ]
     },
     "execution_count": 12,
     "metadata": {},
     "output_type": "execute_result"
    }
   ],
   "source": [
    "\"\"\"profile = pandas_profiling.ProfileReport(df)\n",
    "profile.to_file(\"output.html\")\"\"\""
   ]
  },
  {
   "cell_type": "markdown",
   "id": "53ed0ca5",
   "metadata": {},
   "source": [
    "## Parte 2: Implementación"
   ]
  },
  {
   "cell_type": "code",
   "execution_count": 112,
   "id": "538ad0ce",
   "metadata": {},
   "outputs": [],
   "source": [
    "# Separación de la data de entrenamiento, prueba y validación\n",
    "data_remain, val_data = model_selection.train_test_split(feature_names, test_size=0.15, random_state=42)\n",
    "\n",
    "# validation data is storaged\n",
    "val_data.to_csv('val_data_phi.csv', index=False)\n",
    "# Validation Data - 15% of total data\n",
    "y_val = val_data['status']\n",
    "x_val = val_data.drop(['status'], axis=1)\n",
    "\n",
    "# 85% of remaining data\n",
    "target = data_remain['status']\n",
    "X = data_remain.drop(['status'], axis=1)\n",
    "\n",
    "# Training Data 55% - Testing Data 30%\n",
    "x_train, x_test, y_train,y_test = model_selection.train_test_split(X,target, test_size=0.30/(0.55 + 0.30), random_state=42)\n",
    "\n",
    "# training data is storaged\n",
    "train_data = x_train.copy()\n",
    "train_data['status'] = y_train\n",
    "train_data.to_csv('train_data_phi.csv', index=False)\n",
    "\n",
    "# testing data is storaged\n",
    "test_data = x_test.copy()\n",
    "test_data['status'] = y_test\n",
    "test_data.to_csv('test_data_phi.csv', index=False)"
   ]
  },
  {
   "cell_type": "code",
   "execution_count": 113,
   "id": "a8f00efd",
   "metadata": {},
   "outputs": [
    {
     "data": {
      "text/plain": [
       "url_length              6286\n",
       "hostname_length         6286\n",
       "special_chars           6286\n",
       "https                   6286\n",
       "url_digit_ratio         6286\n",
       "hostname_digit_ratio    6286\n",
       "dtype: int64"
      ]
     },
     "execution_count": 113,
     "metadata": {},
     "output_type": "execute_result"
    }
   ],
   "source": [
    "x_train.count()"
   ]
  },
  {
   "cell_type": "code",
   "execution_count": 114,
   "id": "568eff71",
   "metadata": {},
   "outputs": [
    {
     "data": {
      "text/plain": [
       "url_length              3429\n",
       "hostname_length         3429\n",
       "special_chars           3429\n",
       "https                   3429\n",
       "url_digit_ratio         3429\n",
       "hostname_digit_ratio    3429\n",
       "dtype: int64"
      ]
     },
     "execution_count": 114,
     "metadata": {},
     "output_type": "execute_result"
    }
   ],
   "source": [
    "x_test.count()"
   ]
  },
  {
   "cell_type": "code",
   "execution_count": 115,
   "id": "d5219704",
   "metadata": {},
   "outputs": [
    {
     "data": {
      "text/plain": [
       "url_length              1715\n",
       "hostname_length         1715\n",
       "special_chars           1715\n",
       "https                   1715\n",
       "url_digit_ratio         1715\n",
       "hostname_digit_ratio    1715\n",
       "status                  1715\n",
       "dtype: int64"
      ]
     },
     "execution_count": 115,
     "metadata": {},
     "output_type": "execute_result"
    }
   ],
   "source": [
    "val_data.count()"
   ]
  },
  {
   "cell_type": "code",
   "execution_count": 116,
   "id": "def17257",
   "metadata": {},
   "outputs": [
    {
     "name": "stdout",
     "output_type": "stream",
     "text": [
      "1    3158\n",
      "0    3128\n",
      "Name: status, dtype: int64\n",
      "0    1716\n",
      "1    1713\n",
      "Name: status, dtype: int64\n",
      "0    871\n",
      "1    844\n",
      "Name: status, dtype: int64\n"
     ]
    }
   ],
   "source": [
    "print(y_train.value_counts())\n",
    "print(y_test.value_counts())\n",
    "print(y_val.value_counts())"
   ]
  },
  {
   "cell_type": "markdown",
   "id": "d5274079",
   "metadata": {},
   "source": [
    "## Entrenamiento del modelo"
   ]
  },
  {
   "cell_type": "markdown",
   "id": "4b0fd3b9",
   "metadata": {},
   "source": [
    "### Linear Regression"
   ]
  },
  {
   "cell_type": "code",
   "execution_count": 140,
   "id": "f6c2f97a",
   "metadata": {},
   "outputs": [
    {
     "name": "stdout",
     "output_type": "stream",
     "text": [
      "Testing Data Accuracy:  0.663167104111986\n",
      "\n",
      "Testing Confusion Matrix:\n",
      "\n",
      "------------------------\n",
      " [[1409  307    0]\n",
      " [ 844  865    4]\n",
      " [   0    0    0]] \n",
      "------------------------\n",
      "\n",
      "True Positive:  1409 [Se predijo phishing y fue phishing]\n",
      "False Positive:  307 [Se predijo phishing y fue legítimo]\n",
      "False Negative:  844 [Se predijo legítimo y fue phishing]\n",
      "True Negative:  865 [Se predijo legítimo y fue legítimo]\n",
      "\n",
      "              precision    recall  f1-score   support\n",
      "\n",
      "       legit       0.63      0.82      0.71      1716\n",
      "    phishing       0.74      0.50      0.60      1713\n",
      "         ???       0.00      0.00      0.00         0\n",
      "\n",
      "    accuracy                           0.66      3429\n",
      "   macro avg       0.45      0.44      0.44      3429\n",
      "weighted avg       0.68      0.66      0.65      3429\n",
      "\n",
      "\n",
      "---------------------------------------------------------------------------\n",
      "Validation Data Accuracy:  0.673469387755102\n",
      "\\Validation Confusion Matrix:\n",
      "\n",
      "------------------------\n",
      " [[729 142   0]\n",
      " [417 426   1]\n",
      " [  0   0   0]] \n",
      "------------------------\n",
      "\n",
      "True Positive:  729 [Se predijo phishing y fue phishing]\n",
      "False Positive:  142 [Se predijo phishing y fue legítimo]\n",
      "False Negative:  417 [Se predijo legítimo y fue phishing]\n",
      "True Negative:  426 [Se predijo legítimo y fue legítimo]\n",
      "\n",
      "              precision    recall  f1-score   support\n",
      "\n",
      "       legit       0.64      0.84      0.72       871\n",
      "    phishing       0.75      0.50      0.60       844\n",
      "         ???       0.00      0.00      0.00         0\n",
      "\n",
      "    accuracy                           0.67      1715\n",
      "   macro avg       0.46      0.45      0.44      1715\n",
      "weighted avg       0.69      0.67      0.66      1715\n",
      "\n"
     ]
    },
    {
     "name": "stderr",
     "output_type": "stream",
     "text": [
      "C:\\Users\\olive\\AppData\\Local\\Packages\\PythonSoftwareFoundation.Python.3.10_qbz5n2kfra8p0\\LocalCache\\local-packages\\Python310\\site-packages\\sklearn\\metrics\\_classification.py:1344: UndefinedMetricWarning: Recall and F-score are ill-defined and being set to 0.0 in labels with no true samples. Use `zero_division` parameter to control this behavior.\n",
      "  _warn_prf(average, modifier, msg_start, len(result))\n",
      "C:\\Users\\olive\\AppData\\Local\\Packages\\PythonSoftwareFoundation.Python.3.10_qbz5n2kfra8p0\\LocalCache\\local-packages\\Python310\\site-packages\\sklearn\\metrics\\_classification.py:1344: UndefinedMetricWarning: Recall and F-score are ill-defined and being set to 0.0 in labels with no true samples. Use `zero_division` parameter to control this behavior.\n",
      "  _warn_prf(average, modifier, msg_start, len(result))\n",
      "C:\\Users\\olive\\AppData\\Local\\Packages\\PythonSoftwareFoundation.Python.3.10_qbz5n2kfra8p0\\LocalCache\\local-packages\\Python310\\site-packages\\sklearn\\metrics\\_classification.py:1344: UndefinedMetricWarning: Recall and F-score are ill-defined and being set to 0.0 in labels with no true samples. Use `zero_division` parameter to control this behavior.\n",
      "  _warn_prf(average, modifier, msg_start, len(result))\n",
      "C:\\Users\\olive\\AppData\\Local\\Packages\\PythonSoftwareFoundation.Python.3.10_qbz5n2kfra8p0\\LocalCache\\local-packages\\Python310\\site-packages\\sklearn\\metrics\\_classification.py:1344: UndefinedMetricWarning: Recall and F-score are ill-defined and being set to 0.0 in labels with no true samples. Use `zero_division` parameter to control this behavior.\n",
      "  _warn_prf(average, modifier, msg_start, len(result))\n",
      "C:\\Users\\olive\\AppData\\Local\\Packages\\PythonSoftwareFoundation.Python.3.10_qbz5n2kfra8p0\\LocalCache\\local-packages\\Python310\\site-packages\\sklearn\\metrics\\_classification.py:1344: UndefinedMetricWarning: Recall and F-score are ill-defined and being set to 0.0 in labels with no true samples. Use `zero_division` parameter to control this behavior.\n",
      "  _warn_prf(average, modifier, msg_start, len(result))\n",
      "C:\\Users\\olive\\AppData\\Local\\Packages\\PythonSoftwareFoundation.Python.3.10_qbz5n2kfra8p0\\LocalCache\\local-packages\\Python310\\site-packages\\sklearn\\metrics\\_classification.py:1344: UndefinedMetricWarning: Recall and F-score are ill-defined and being set to 0.0 in labels with no true samples. Use `zero_division` parameter to control this behavior.\n",
      "  _warn_prf(average, modifier, msg_start, len(result))\n"
     ]
    }
   ],
   "source": [
    "regressor = LinearRegression()\n",
    "regressor.fit(x_train, y_train)\n",
    "\n",
    "y_test_pred = regressor.predict(x_test)\n",
    "y_val_pred = regressor.predict(x_val)\n",
    "\n",
    "# Métricas para testing\n",
    "print('Testing Data Accuracy: ', metrics.accuracy_score(y_test, y_test_pred.round()))\n",
    "test_m = metrics.confusion_matrix(y_test, y_test_pred.round())\n",
    "print('\\nTesting Confusion Matrix:\\n\\n------------------------\\n', test_m ,'\\n------------------------\\n')\n",
    "print('True Positive: ', test_m[0][0], '[Se predijo phishing y fue phishing]')\n",
    "print('False Positive: ', test_m[0][1], '[Se predijo phishing y fue legítimo]')\n",
    "print('False Negative: ', test_m[1][0], '[Se predijo legítimo y fue phishing]')\n",
    "print('True Negative: ', test_m[1][1],'[Se predijo legítimo y fue legítimo]\\n')\n",
    "print(metrics.classification_report(y_test, y_test_pred.round(), target_names=['legit', 'phishing', '???']))\n",
    "print('\\n---------------------------------------------------------------------------')\n",
    "\n",
    "# Métricas para validation\n",
    "print('Validation Data Accuracy: ',metrics.accuracy_score(y_val, y_val_pred.round()))\n",
    "val_m = metrics.confusion_matrix(y_val, y_val_pred.round())\n",
    "print('\\Validation Confusion Matrix:\\n\\n------------------------\\n', val_m ,'\\n------------------------\\n')\n",
    "print('True Positive: ', val_m[0][0], '[Se predijo phishing y fue phishing]')\n",
    "print('False Positive: ', val_m[0][1], '[Se predijo phishing y fue legítimo]')\n",
    "print('False Negative: ', val_m[1][0], '[Se predijo legítimo y fue phishing]')\n",
    "print('True Negative: ', val_m[1][1],'[Se predijo legítimo y fue legítimo]\\n')\n",
    "print(metrics.classification_report(y_val, y_val_pred.round(), target_names=['legit', 'phishing','???']))\n"
   ]
  },
  {
   "cell_type": "markdown",
   "id": "7a58aab0",
   "metadata": {},
   "source": [
    "### Decision Tree"
   ]
  },
  {
   "cell_type": "code",
   "execution_count": 137,
   "id": "e4abd6ee",
   "metadata": {},
   "outputs": [
    {
     "name": "stdout",
     "output_type": "stream",
     "text": [
      "Testing Data Accuracy:  0.7258675998833479\n",
      "\n",
      "Testing Confusion Matrix:\n",
      "\n",
      "------------------------\n",
      " [[1294  422]\n",
      " [ 518 1195]] \n",
      "------------------------\n",
      "\n",
      "True Positive:  1294 [Se predijo phishing y fue phishing]\n",
      "False Positive:  422 [Se predijo phishing y fue legítimo]\n",
      "False Negative:  518 [Se predijo legítimo y fue phishing]\n",
      "True Negative:  1195 [Se predijo legítimo y fue legítimo]\n",
      "\n",
      "              precision    recall  f1-score   support\n",
      "\n",
      "       legit       0.71      0.75      0.73      1716\n",
      "    phishing       0.74      0.70      0.72      1713\n",
      "\n",
      "    accuracy                           0.73      3429\n",
      "   macro avg       0.73      0.73      0.73      3429\n",
      "weighted avg       0.73      0.73      0.73      3429\n",
      "\n",
      "\n",
      "---------------------------------------------------------------------------\n",
      "Validation Data Accuracy:  0.7236151603498542\n",
      "\n",
      "Testing Confusion Matrix:\n",
      "\n",
      "------------------------\n",
      " [[658 213]\n",
      " [261 583]] \n",
      "------------------------\n",
      "\n",
      "True Positive:  658 [Se predijo phishing y fue phishing]\n",
      "False Positive:  213 [Se predijo phishing y fue legítimo]\n",
      "False Negative:  261 [Se predijo legítimo y fue phishing]\n",
      "True Negative:  583 [Se predijo legítimo y fue legítimo]\n",
      "\n",
      "              precision    recall  f1-score   support\n",
      "\n",
      "       legit       0.72      0.76      0.74       871\n",
      "    phishing       0.73      0.69      0.71       844\n",
      "\n",
      "    accuracy                           0.72      1715\n",
      "   macro avg       0.72      0.72      0.72      1715\n",
      "weighted avg       0.72      0.72      0.72      1715\n",
      "\n"
     ]
    }
   ],
   "source": [
    "clf = tree.DecisionTreeClassifier()\n",
    "clf = clf.fit(x_train, y_train)\n",
    "\n",
    "target_pred = clf.predict(x_test)\n",
    "val_pred = clf.predict(x_val)\n",
    "\n",
    "# Métricas para testing\n",
    "print('Testing Data Accuracy: ', metrics.accuracy_score(y_test, target_pred))\n",
    "test_m = metrics.confusion_matrix(y_test, target_pred)\n",
    "print('\\nTesting Confusion Matrix:\\n\\n------------------------\\n', test_m ,'\\n------------------------\\n')\n",
    "print('True Positive: ', test_m[0][0], '[Se predijo phishing y fue phishing]')\n",
    "print('False Positive: ', test_m[0][1], '[Se predijo phishing y fue legítimo]')\n",
    "print('False Negative: ', test_m[1][0], '[Se predijo legítimo y fue phishing]')\n",
    "print('True Negative: ', test_m[1][1],'[Se predijo legítimo y fue legítimo]\\n')\n",
    "print(metrics.classification_report(y_test, target_pred, target_names=['legit', 'phishing']))\n",
    "print('\\n---------------------------------------------------------------------------')\n",
    "\n",
    "# Métricas para validation\n",
    "print('Validation Data Accuracy: ', metrics.accuracy_score(y_val, val_pred))\n",
    "val_m = metrics.confusion_matrix(y_val, val_pred)\n",
    "print('\\nTesting Confusion Matrix:\\n\\n------------------------\\n', val_m ,'\\n------------------------\\n')\n",
    "print('True Positive: ', val_m[0][0], '[Se predijo phishing y fue phishing]')\n",
    "print('False Positive: ', val_m[0][1], '[Se predijo phishing y fue legítimo]')\n",
    "print('False Negative: ', val_m[1][0], '[Se predijo legítimo y fue phishing]')\n",
    "print('True Negative: ', val_m[1][1],'[Se predijo legítimo y fue legítimo]\\n')\n",
    "print(metrics.classification_report(y_val, val_pred, target_names=['legit', 'phishing']))\n"
   ]
  },
  {
   "cell_type": "markdown",
   "id": "60ba3e08",
   "metadata": {},
   "source": [
    "## DISCUSIÓN"
   ]
  },
  {
   "cell_type": "markdown",
   "id": "1dd2afd3",
   "metadata": {},
   "source": [
    "1. **¿Cuál es el impacto de clasificar un sitio legítimo como Pishing?**\n",
    "\n",
    "Afectaría directamente las operaciones del sitio legítimo, provocando perdidas de tráfico con posibilidad de negocio y rentabilidad, perjuicios en la confianza pública del website y posibles problemas legales por los daños/perjuicios producidos por su cese de operaciones.\n",
    "\n",
    "2. **¿Cuál es el impacto de clasificar un sitio de Pishing como legítimo?**\n",
    "\n",
    "En primera instancia, propiciaría la ejecución de ataques basados en el engaño de usuarios, posibilitando el acceso a información confidencial (contraseñas, información bancaria, información sensible, etc.). Además, podría erosionar la confianza de las entidades tanto clasificadoras como vulneradas, provocando perdidas económicas y una ampliación en el alcance del ataque.\n",
    "\n",
    "3. **En base a las respuestas anteriores, ¿Qué métrica elegiría para comparar modelos similares de clasificación de pishing?**\n",
    "\n",
    "Escogería la precisión del modelo cómo métrica principal, esto con el fin de determinar el ratio de predicciones exitosas en la identificación. Además, elegiría la matriz de confusión para determinar la distribución de predicciones y determinar el modelo que menos daños pueda provocar.\n",
    "\n",
    "4. **¿Qué modelo es mejor para la clasificación de Pishing? Justifique**\n",
    "\n",
    "Para poder determinar el mejor modelo, hemos de exponer sus resultados:\n",
    "\n",
    "**Regresión Lineal:** Este modelo presentó una precisión promedio del 66.5% para los datos de testeo y validación, implicando que 2 de 3 predicciones serán correctas. Al consultar sus matrices de confusión, se observó que aproximadamente el 8.55% de las predicciones, clasificaran sitios legítimos como phishing y un ~24.45% identificará phishing como legítimo.\n",
    "\n",
    "**Árbol de Decisión:** El modelo retornó una precisión promedio del 72.4% entre los datasets de testeo y validación. Su matriz de confusión indicó un ~12.35% de predicciones falsas positivas y ~15.15% para predicciones falsas negativas.\n",
    "\n",
    "Con base a los resultados consultados, podemos determinar que el árbol de decisión tiene una mayor precisión identificando phishing (72.6% > 66.5%). Por otra parte, el modelo de regresión lineal presenta un -4.65% de predicciones falsas positivas a comparación de su modelo contraparte, lo que indicaría una mejor métrica en cuanto a la mitigación de perdidas de tráfico y reputación provocada por malas predicciones. Finalmente, el árbol de decisión presentó un -9.3% en predicciones falsas negativas, lo que implica una evasión aumentada de ataques por phishing. Convirtiendolo en un modelo superior en cuanto a la detección de phishing.\n",
    "\n",
    "Por lo que el árbol de decisión comprende un mejor modelo de clasificación para este dataset.\n",
    "\n",
    "5. **En base a las métricas obtenidas ¿es necesaria la intervención de una persona humana para tomar la decisión final?**\n",
    "\n",
    "Dado que ambos modelos cuentan con metricas de precisión insuficientes, la intervención humana será un recurso demandado (y costoso) para la determinación de decisiones finales con la mayor cantidad de mitigación de daño por imprecisión. "
   ]
  },
  {
   "cell_type": "code",
   "execution_count": null,
   "id": "0028b79d",
   "metadata": {},
   "outputs": [],
   "source": []
  }
 ],
 "metadata": {
  "kernelspec": {
   "display_name": "Python 3 (ipykernel)",
   "language": "python",
   "name": "python3"
  },
  "language_info": {
   "codemirror_mode": {
    "name": "ipython",
    "version": 3
   },
   "file_extension": ".py",
   "mimetype": "text/x-python",
   "name": "python",
   "nbconvert_exporter": "python",
   "pygments_lexer": "ipython3",
   "version": "3.10.9"
  }
 },
 "nbformat": 4,
 "nbformat_minor": 5
}
